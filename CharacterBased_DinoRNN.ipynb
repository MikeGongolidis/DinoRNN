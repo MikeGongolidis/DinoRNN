{
 "cells": [
  {
   "cell_type": "markdown",
   "metadata": {},
   "source": [
    "# Character-based RNN Dinosaur name generator"
   ]
  },
  {
   "cell_type": "markdown",
   "metadata": {},
   "source": [
    "![title](dinos.jpg)"
   ]
  },
  {
   "cell_type": "markdown",
   "metadata": {},
   "source": [
    "As explained in : <hyper>https://www.tensorflow.org/tutorials/text/text_generation</hyper> for a different task.\n",
    "\n",
    "### Process: <br>\n",
    "\n",
    "1. Preprocessing\n",
    "2. Model creation\n",
    "3. Customized Training\n",
    "4. Rewiring of model to generate text ( the prediction loop )\n",
    "\n",
    "<br> The model can be seen below:"
   ]
  },
  {
   "cell_type": "markdown",
   "metadata": {},
   "source": [
    "![image](model.jpg )"
   ]
  },
  {
   "cell_type": "markdown",
   "metadata": {},
   "source": [
    "### 0. Loading of the dataset \n",
    "\n",
    "The dataset holds dinosaur names "
   ]
  },
  {
   "cell_type": "code",
   "execution_count": 15,
   "metadata": {},
   "outputs": [
    {
     "name": "stdout",
     "output_type": "stream",
     "text": [
      "There are 1536 total Dinosaur names and 26 unique characters in the data.\n",
      "['aachenosaurus', 'aardonyx', 'abdallahsaurus', 'abelisaurus', 'abrictosaurus', 'abrosaurus', 'abydosaurus', 'acanthopholis', 'achelousaurus', 'acheroraptor']\n"
     ]
    }
   ],
   "source": [
    "from __future__ import absolute_import, division, print_function, unicode_literals\n",
    "\n",
    "import numpy as np\n",
    "\n",
    "import os\n",
    "import time\n",
    "\n",
    "import itertools\n",
    "from itertools import chain\n",
    "\n",
    "dinos = open('Dino.txt.txt', 'r').read()\n",
    "dinos = dinos.lower().splitlines()\n",
    "vocab = set(chain.from_iterable(dinos))\n",
    "\n",
    "print('There are %d total Dinosaur names and %d unique characters in the data.' % (len(dinos), len(vocab)))\n",
    "print(dinos[0:10])"
   ]
  },
  {
   "cell_type": "markdown",
   "metadata": {},
   "source": [
    "### 1. Preprocessing\n",
    "#### 1.1 Create lookup tables for characters to numbers and numbers to characters.  \n",
    "This is going to help us transform the character inputs to numeric inputs so the model can understand them and the numeric results of the model to characters so we can understand the results"
   ]
  },
  {
   "cell_type": "code",
   "execution_count": 2,
   "metadata": {},
   "outputs": [
    {
     "name": "stdout",
     "output_type": "stream",
     "text": [
      "{'a': 0, 'b': 1, 'c': 2, 'd': 3, 'e': 4, 'f': 5, 'g': 6, 'h': 7, 'i': 8, 'j': 9, 'k': 10, 'l': 11, 'm': 12, 'n': 13, 'o': 14, 'p': 15, 'q': 16, 'r': 17, 's': 18, 't': 19, 'u': 20, 'v': 21, 'w': 22, 'x': 23, 'y': 24, 'z': 25, ' ': 26}\n"
     ]
    }
   ],
   "source": [
    "char2idx = { ch:i for i,ch in enumerate(sorted(vocab)) }\n",
    "idx2char = { i:ch for i,ch in enumerate(sorted(vocab)) }\n",
    "char2idx[\" \"] = 26\n",
    "idx2char[26] = \" \"\n",
    "print(char2idx)"
   ]
  },
  {
   "cell_type": "markdown",
   "metadata": {},
   "source": [
    "As you can see we add the 'space' character in the end of vocabulary. It will be needed and explained later"
   ]
  },
  {
   "cell_type": "markdown",
   "metadata": {},
   "source": [
    "#### 1.2 Convert the dino names to numbers"
   ]
  },
  {
   "cell_type": "code",
   "execution_count": 3,
   "metadata": {},
   "outputs": [
    {
     "name": "stdout",
     "output_type": "stream",
     "text": [
      "'aachenosaurus' ---- characters mapped to int ---- > [0, 0, 2, 7, 4, 13, 14, 18, 0, 20, 17, 20, 18]\n"
     ]
    }
   ],
   "source": [
    "text_as_int = [0]*len(dinos)\n",
    "for i,dino in enumerate(dinos):\n",
    "  text_as_int[i] = [char2idx[c] for c in dino ]\n",
    "print ('{} ---- characters mapped to int ---- > {}'.format(repr(dinos[0]), text_as_int[0]))"
   ]
  },
  {
   "cell_type": "markdown",
   "metadata": {},
   "source": [
    "#### 1.3 Pad the input sequences in order to have the same length\n",
    "\n",
    "Some dino names are really long and some others sort. We pad the dino names so all the names have the same length"
   ]
  },
  {
   "cell_type": "code",
   "execution_count": 4,
   "metadata": {},
   "outputs": [
    {
     "name": "stdout",
     "output_type": "stream",
     "text": [
      "26\n"
     ]
    }
   ],
   "source": [
    "print(len((max(dinos, key=len))))"
   ]
  },
  {
   "cell_type": "markdown",
   "metadata": {},
   "source": [
    "The biggest name is of length 26. We decide all the names to have length 27 and we fill the rest of the numbers with the 'space' character."
   ]
  },
  {
   "cell_type": "code",
   "execution_count": 5,
   "metadata": {},
   "outputs": [
    {
     "name": "stderr",
     "output_type": "stream",
     "text": [
      "Using TensorFlow backend.\n"
     ]
    },
    {
     "name": "stdout",
     "output_type": "stream",
     "text": [
      "[ 0  0  2  7  4 13 14 18  0 20 17 20 18 26 26 26 26 26 26 26 26 26 26 26\n",
      " 26 26 26] ---- integers with padding mapped to characters ---- > aachenosaurus              \n"
     ]
    }
   ],
   "source": [
    "from keras.preprocessing.sequence import pad_sequences\n",
    "\n",
    "seq_length = 27\n",
    "\n",
    "pad_dino_seq = pad_sequences(text_as_int, maxlen=seq_length, padding='post',value=26, truncating='post')\n",
    "temp = str()\n",
    "for i in pad_dino_seq[0]:\n",
    "  temp = temp + idx2char[i]\n",
    "print ('{} ---- integers with padding mapped to characters ---- > {}'.format(pad_dino_seq[0], temp))"
   ]
  },
  {
   "cell_type": "markdown",
   "metadata": {},
   "source": [
    "Keep in mind that after the name the 'space' character follows until the sequence of 27 characters is completed"
   ]
  },
  {
   "cell_type": "markdown",
   "metadata": {},
   "source": [
    "#### 1.4 Create a Tensorflow dataset \n",
    "\n",
    "I concatenate all the numeric dinosaur sequences to one sequence and i create a Tf.Dataset by grouping them again in sequences of 27."
   ]
  },
  {
   "cell_type": "code",
   "execution_count": 7,
   "metadata": {},
   "outputs": [
    {
     "name": "stdout",
     "output_type": "stream",
     "text": [
      "tf.Tensor(\n",
      "[ 0  0  2  7  4 13 14 18  0 20 17 20 18 26 26 26 26 26 26 26 26 26 26 26\n",
      " 26 26 26], shape=(27,), dtype=int32)\n"
     ]
    }
   ],
   "source": [
    "import tensorflow as tf\n",
    "\n",
    "pad_dino_seq_com= list(itertools.chain(*pad_dino_seq))\n",
    "\n",
    "sequences = tf.data.Dataset.from_tensor_slices(pad_dino_seq_com).batch(27, drop_remainder=True)\n",
    "\n",
    "for one in sequences.take(1):\n",
    "  print(one)"
   ]
  },
  {
   "cell_type": "markdown",
   "metadata": {},
   "source": [
    "#### 1.5 Create groups of training examples and targets\n",
    "\n",
    "What are the targets? Our model in every time step will learn to get a character and output the next most probable character. <br>\n",
    "So, we need to shift every sequence by one character:"
   ]
  },
  {
   "cell_type": "code",
   "execution_count": 8,
   "metadata": {},
   "outputs": [
    {
     "name": "stdout",
     "output_type": "stream",
     "text": [
      "Input data: aachenosaurus             \n",
      "Target data: achenosaurus              \n",
      "Step    0\n",
      "  input: 0 ('a')\n",
      "  expected output: 0 ('a')\n",
      "Step    1\n",
      "  input: 0 ('a')\n",
      "  expected output: 2 ('c')\n",
      "Step    2\n",
      "  input: 2 ('c')\n",
      "  expected output: 7 ('h')\n",
      "Step    3\n",
      "  input: 7 ('h')\n",
      "  expected output: 4 ('e')\n",
      "Step    4\n",
      "  input: 4 ('e')\n",
      "  expected output: 13 ('n')\n",
      "Step    5\n",
      "  input: 13 ('n')\n",
      "  expected output: 14 ('o')\n",
      "Step    6\n",
      "  input: 14 ('o')\n",
      "  expected output: 18 ('s')\n",
      "Step    7\n",
      "  input: 18 ('s')\n",
      "  expected output: 0 ('a')\n",
      "Step    8\n",
      "  input: 0 ('a')\n",
      "  expected output: 20 ('u')\n",
      "Step    9\n",
      "  input: 20 ('u')\n",
      "  expected output: 17 ('r')\n",
      "Step   10\n",
      "  input: 17 ('r')\n",
      "  expected output: 20 ('u')\n",
      "Step   11\n",
      "  input: 20 ('u')\n",
      "  expected output: 18 ('s')\n",
      "Step   12\n",
      "  input: 18 ('s')\n",
      "  expected output: 26 (' ')\n"
     ]
    }
   ],
   "source": [
    "def split_input_target(chunk):\n",
    "    \n",
    "    input_text = chunk[:-1]\n",
    "    target_text = chunk[1:]\n",
    "    \n",
    "    return input_text, target_text\n",
    "\n",
    "dataset = sequences.map(split_input_target)\n",
    "\n",
    "for input_example, target_example in  dataset.take(1):\n",
    "  inp = str()\n",
    "  tar = str()\n",
    "  for i in input_example.numpy():\n",
    "    inp = inp +idx2char[i]\n",
    "  for i in target_example.numpy():\n",
    "    tar = tar +idx2char[i]\n",
    "  \n",
    "  print ('Input data:', inp)\n",
    "  print ('Target data:',tar)\n",
    "  \n",
    "for i, (input_idx, target_idx) in enumerate(zip(input_example.numpy()[:13], target_example.numpy()[:13])):\n",
    "    print(\"Step {:4d}\".format(i))\n",
    "    print(\"  input: {} ({:s})\".format(input_idx, repr(idx2char[input_idx])))\n",
    "    print(\"  expected output: {} ({:s})\".format(target_idx, repr(idx2char[target_idx])))"
   ]
  },
  {
   "cell_type": "markdown",
   "metadata": {},
   "source": [
    "#### 1.6 Now we can shuffle the data and create batches of names to be feeded  to the network"
   ]
  },
  {
   "cell_type": "code",
   "execution_count": 9,
   "metadata": {},
   "outputs": [
    {
     "name": "stdout",
     "output_type": "stream",
     "text": [
      "<TakeDataset shapes: ((16, 26), (16, 26)), types: (tf.int32, tf.int32)>\n"
     ]
    }
   ],
   "source": [
    "BATCH_SIZE = 16\n",
    "BUFFER_SIZE = 1000\n",
    "\n",
    "dataset = dataset.shuffle(BUFFER_SIZE).batch(BATCH_SIZE, drop_remainder=True)\n",
    "print(dataset.take(1))"
   ]
  },
  {
   "cell_type": "markdown",
   "metadata": {},
   "source": [
    "## 2. Model creation\n",
    "#### 2.1 Define hyperparameters\n",
    "The characters of the sequences will be emdedded before entering the Recurrent layer.<br>\n"
   ]
  },
  {
   "cell_type": "code",
   "execution_count": 10,
   "metadata": {},
   "outputs": [],
   "source": [
    "vocab_size = len(vocab)\n",
    "\n",
    "embedding_dim = 64\n",
    "\n",
    "rnn_units = 256"
   ]
  },
  {
   "cell_type": "code",
   "execution_count": 11,
   "metadata": {},
   "outputs": [],
   "source": [
    "from tensorflow.keras.models import Sequential,Model\n",
    "from tensorflow.keras.layers import Dense,GRU,Embedding,Input,Activation,Add,concatenate, RepeatVector"
   ]
  },
  {
   "cell_type": "markdown",
   "metadata": {},
   "source": [
    "#### 2.2 Adding the layers into the model"
   ]
  },
  {
   "cell_type": "code",
   "execution_count": 35,
   "metadata": {},
   "outputs": [],
   "source": [
    "def build_model(vocab_size, embedding_dim, rnn_units, batch_size):\n",
    "  model = tf.keras.Sequential([\n",
    "    tf.keras.layers.Embedding(vocab_size, embedding_dim,\n",
    "                              batch_input_shape=[batch_size, None]),\n",
    "    tf.keras.layers.GRU(rnn_units,\n",
    "                        return_sequences=True,\n",
    "                        stateful=True,\n",
    "                        recurrent_initializer='glorot_uniform'),\n",
    "    tf.keras.layers.Dense(vocab_size)\n",
    "  ])\n",
    "  return model"
   ]
  },
  {
   "cell_type": "code",
   "execution_count": 36,
   "metadata": {},
   "outputs": [
    {
     "name": "stdout",
     "output_type": "stream",
     "text": [
      "Model: \"sequential_1\"\n",
      "_________________________________________________________________\n",
      "Layer (type)                 Output Shape              Param #   \n",
      "=================================================================\n",
      "embedding_1 (Embedding)      (16, None, 64)            1728      \n",
      "_________________________________________________________________\n",
      "gru_1 (GRU)                  (16, None, 256)           247296    \n",
      "_________________________________________________________________\n",
      "dense_1 (Dense)              (16, None, 27)            6939      \n",
      "=================================================================\n",
      "Total params: 255,963\n",
      "Trainable params: 255,963\n",
      "Non-trainable params: 0\n",
      "_________________________________________________________________\n"
     ]
    }
   ],
   "source": [
    "model = build_model(\n",
    "  vocab_size = vocab_size+1,\n",
    "  embedding_dim=embedding_dim,\n",
    "  rnn_units=rnn_units,\n",
    "  batch_size=BATCH_SIZE)\n",
    "model.summary()"
   ]
  },
  {
   "cell_type": "markdown",
   "metadata": {},
   "source": [
    "#### 2.3 Defining loss function and optimizer"
   ]
  },
  {
   "cell_type": "code",
   "execution_count": 37,
   "metadata": {},
   "outputs": [],
   "source": [
    "def loss(labels, logits):\n",
    "  return tf.keras.losses.sparse_categorical_crossentropy(labels, logits, from_logits=True)\n",
    "optimizer = tf.keras.optimizers.Adam()"
   ]
  },
  {
   "cell_type": "code",
   "execution_count": 38,
   "metadata": {},
   "outputs": [],
   "source": [
    "model.compile(optimizer=optimizer, loss=loss)"
   ]
  },
  {
   "cell_type": "markdown",
   "metadata": {},
   "source": [
    "## 3. Customized Training\n",
    "\n",
    "First, saving checkpoint files of the model every x number of epochs ( defined in training ) <br>\n",
    "We will need this after the training for in order to create the generator model"
   ]
  },
  {
   "cell_type": "code",
   "execution_count": 39,
   "metadata": {},
   "outputs": [],
   "source": [
    "# Directory where the checkpoints will be saved\n",
    "checkpoint_dir = './training_checkpoints/3'\n",
    "# Name of the checkpoint files\n",
    "checkpoint_prefix = os.path.join(checkpoint_dir, \"ckpt_{epoch}\")\n",
    "\n",
    "checkpoint_callback=tf.keras.callbacks.ModelCheckpoint(\n",
    "    filepath=checkpoint_prefix,\n",
    "    save_weights_only=True)"
   ]
  },
  {
   "cell_type": "markdown",
   "metadata": {},
   "source": [
    "#### 3.1 Defining the training step. \n",
    "I use the tf.GradientTape function to track the gradients in each forward pass in the \"grads\" step."
   ]
  },
  {
   "cell_type": "code",
   "execution_count": 40,
   "metadata": {},
   "outputs": [],
   "source": [
    "@tf.function\n",
    "def train_step(inp, target):\n",
    "  with tf.GradientTape() as tape:\n",
    "    predictions = model(inp)\n",
    "    loss = tf.reduce_mean(\n",
    "        tf.keras.losses.sparse_categorical_crossentropy(\n",
    "            target, predictions, from_logits=True))\n",
    "  grads = tape.gradient(loss, model.trainable_variables)\n",
    "  optimizer.apply_gradients(zip(grads, model.trainable_variables))\n",
    "\n",
    "  return loss"
   ]
  },
  {
   "cell_type": "markdown",
   "metadata": {},
   "source": [
    "#### 3.2 Simulating the training phase\n",
    "\n",
    "For each epoch stated in the beginning, for each batch the training step function is called.<br>\n",
    "There the model makes a prediction and a loss is calculated and the weights of the model are updated accordingly.<br>\n",
    "I keep the loss in a list to plot the loss function over time later."
   ]
  },
  {
   "cell_type": "code",
   "execution_count": 41,
   "metadata": {},
   "outputs": [
    {
     "name": "stdout",
     "output_type": "stream",
     "text": [
      "Epoch 1 Batch 0 Loss 3.2942323684692383\n",
      "Epoch 1 Loss 1.1465\n",
      "Time taken for 1 epoch 1.6161861419677734 sec\n",
      "\n",
      "Epoch 2 Batch 0 Loss 1.548633098602295\n",
      "Epoch 2 Loss 1.0168\n",
      "Time taken for 1 epoch 0.34108567237854004 sec\n",
      "\n",
      "Epoch 3 Batch 0 Loss 1.1183886528015137\n",
      "Epoch 3 Loss 0.7858\n",
      "Time taken for 1 epoch 0.3344557285308838 sec\n",
      "\n",
      "Epoch 4 Batch 0 Loss 0.8576366901397705\n",
      "Epoch 4 Loss 0.7706\n",
      "Time taken for 1 epoch 0.32712578773498535 sec\n",
      "\n",
      "Epoch 5 Batch 0 Loss 0.7919222712516785\n",
      "Epoch 5 Loss 0.8125\n",
      "Time taken for 1 epoch 0.39356112480163574 sec\n",
      "\n",
      "Epoch 6 Batch 0 Loss 0.8132436275482178\n",
      "Epoch 6 Loss 0.9134\n",
      "Time taken for 1 epoch 0.32482314109802246 sec\n",
      "\n",
      "Epoch 7 Batch 0 Loss 0.8476177453994751\n",
      "Epoch 7 Loss 0.8335\n",
      "Time taken for 1 epoch 0.32413244247436523 sec\n",
      "\n",
      "Epoch 8 Batch 0 Loss 0.8000958561897278\n",
      "Epoch 8 Loss 0.8394\n",
      "Time taken for 1 epoch 0.3198111057281494 sec\n",
      "\n",
      "Epoch 9 Batch 0 Loss 0.8080747127532959\n",
      "Epoch 9 Loss 0.6838\n",
      "Time taken for 1 epoch 0.32413339614868164 sec\n",
      "\n",
      "Epoch 10 Batch 0 Loss 0.8336195349693298\n",
      "Epoch 10 Loss 0.7458\n",
      "Time taken for 1 epoch 0.38957881927490234 sec\n",
      "\n"
     ]
    }
   ],
   "source": [
    "# Training step\n",
    "EPOCHS = 10\n",
    "history = list()\n",
    "for epoch in range(EPOCHS):\n",
    "  start = time.time()\n",
    "\n",
    "  # initializing the hidden state at the start of every epoch\n",
    "  # initally hidden is None\n",
    "  hidden = model.reset_states()\n",
    "\n",
    "  for (batch_n, (inp, target)) in enumerate(dataset):\n",
    "    loss = train_step(inp, target)\n",
    "    \n",
    "    if batch_n % 100 == 0:\n",
    "      template = 'Epoch {} Batch {} Loss {}'\n",
    "      print(template.format(epoch+1, batch_n, loss))\n",
    "\n",
    "  # saving (checkpoint) the model every 5 epochs\n",
    "  if (epoch + 1) % 5 == 0:\n",
    "    history.append(loss.numpy())\n",
    "    model.save_weights(checkpoint_prefix.format(epoch=epoch))\n",
    "\n",
    "  print ('Epoch {} Loss {:.4f}'.format(epoch+1, loss))\n",
    "  print ('Time taken for 1 epoch {} sec\\n'.format(time.time() - start))\n",
    "\n",
    "model.save_weights(checkpoint_prefix.format(epoch=epoch))"
   ]
  },
  {
   "cell_type": "markdown",
   "metadata": {},
   "source": [
    "#### 3.3 Plot the loss over time"
   ]
  },
  {
   "cell_type": "code",
   "execution_count": 42,
   "metadata": {},
   "outputs": [
    {
     "data": {
      "image/png": "[encoded data removed]",
      "text/plain": [
       "<Figure size 720x432 with 1 Axes>"
      ]
     },
     "metadata": {
      "needs_background": "light"
     },
     "output_type": "display_data"
    }
   ],
   "source": [
    "import matplotlib.pyplot as plt\n",
    "%matplotlib inline\n",
    "\n",
    "plt.figure(figsize=(10, 6))\n",
    "plt.plot(history)\n",
    "plt.title('model loss')\n",
    "plt.ylabel('loss')\n",
    "plt.xlabel('epoch')\n",
    "plt.legend(['train', 'test'], loc='upper left')\n",
    "plt.show()"
   ]
  },
  {
   "cell_type": "markdown",
   "metadata": {},
   "source": [
    "## 4. Rewiring the model\n",
    "\n",
    "This phase is crucial to test the model. <br>\n",
    "In the training phase the input in every time step was a single character and the output was a single character.<br> The output was compared with the desired output and a loss was calculated. <br>On the next timestep, the second input was introduced to the model and the same process was ongoing until the end of each sequence.\n",
    "\n",
    "##### Now we want to feed the model its own output of the previous timestep so it can generate a name on its own as shown in the picture below:"
   ]
  },
  {
   "cell_type": "markdown",
   "metadata": {},
   "source": [
    "![title](rewiring.jpg)"
   ]
  },
  {
   "cell_type": "markdown",
   "metadata": {},
   "source": [
    "#### 4.1 Change the batch size\n",
    "Initially we want to change the model`s batch size to 1 so we wont have to feed it with BATCH_SIZE number of sequences to test it. <br>\n",
    "We do that by creating a different model with batch size 1 and loading the weights of the last iteration of the training.\n"
   ]
  },
  {
   "cell_type": "code",
   "execution_count": 46,
   "metadata": {},
   "outputs": [],
   "source": [
    "model = build_model(vocab_size+1, embedding_dim, rnn_units, batch_size=1)\n",
    "\n",
    "model.load_weights(tf.train.latest_checkpoint(checkpoint_dir))\n",
    "\n",
    "model.build(tf.TensorShape([1, None]))\n",
    "model.summary()"
   ]
  },
  {
   "cell_type": "code",
   "execution_count": 47,
   "metadata": {},
   "outputs": [
    {
     "name": "stdout",
     "output_type": "stream",
     "text": [
      "Model: \"sequential_2\"\n",
      "_________________________________________________________________\n",
      "Layer (type)                 Output Shape              Param #   \n",
      "=================================================================\n",
      "embedding_2 (Embedding)      (1, None, 64)             1728      \n",
      "_________________________________________________________________\n",
      "gru_2 (GRU)                  (1, None, 256)            247296    \n",
      "_________________________________________________________________\n",
      "dense_2 (Dense)              (1, None, 27)             6939      \n",
      "=================================================================\n",
      "Total params: 255,963\n",
      "Trainable params: 255,963\n",
      "Non-trainable params: 0\n",
      "_________________________________________________________________\n"
     ]
    }
   ],
   "source": []
  },
  {
   "cell_type": "markdown",
   "metadata": {},
   "source": [
    "#### 4.1 Create the function to generate names\n",
    "\n"
   ]
  },
  {
   "cell_type": "code",
   "execution_count": 81,
   "metadata": {},
   "outputs": [],
   "source": [
    "def generate_text(model, start_string):\n",
    "  # Evaluation step (generating text using the learned model)\n",
    "\n",
    "  # Number of characters to generate\n",
    "  num_generate = 100\n",
    "\n",
    "  # Converting our start string to numbers (vectorizing)\n",
    "  input_eval = [char2idx[s] for s in start_string]\n",
    "  input_eval = tf.expand_dims(input_eval, 0)\n",
    "\n",
    "  # Empty string to store our results\n",
    "  text_generated = []\n",
    "\n",
    "  # Low temperatures results in more predictable text.\n",
    "  # Higher temperatures results in more surprising text.\n",
    "  # Experiment to find the best setting.\n",
    "  temperature = 1.0\n",
    "\n",
    "  # Here batch size == 1\n",
    "  model.reset_states()\n",
    "  for i in range(num_generate):\n",
    "      predictions = model(input_eval)\n",
    "      # remove the batch dimension\n",
    "      predictions = tf.squeeze(predictions, 0)\n",
    "\n",
    "      # using a categorical distribution to predict the character returned by the model\n",
    "      predictions = predictions / temperature\n",
    "      predicted_id = tf.random.categorical(predictions, num_samples=1)[-1,0].numpy()\n",
    "\n",
    "      # We pass the predicted character as the next input to the model\n",
    "      # along with the previous hidden state\n",
    "      input_eval = tf.expand_dims([predicted_id], 0)\n",
    "\n",
    "      text_generated.append(idx2char[predicted_id])\n",
    "\n",
    "  return (start_string + ''.join(text_generated))"
   ]
  },
  {
   "cell_type": "code",
   "execution_count": 97,
   "metadata": {},
   "outputs": [
    {
     "name": "stdout",
     "output_type": "stream",
     "text": [
      "velusaurus                                                                                             \n"
     ]
    }
   ],
   "source": [
    "print(generate_text(model, start_string=u\"vel\"))"
   ]
  },
  {
   "cell_type": "markdown",
   "metadata": {},
   "source": [
    "# Thank you!"
   ]
  }
 ],
 "metadata": {
  "kernelspec": {
   "display_name": "Python 3",
   "language": "python",
   "name": "python3"
  },
  "language_info": {
   "codemirror_mode": {
    "name": "ipython",
    "version": 3
   },
   "file_extension": ".py",
   "mimetype": "text/x-python",
   "name": "python",
   "nbconvert_exporter": "python",
   "pygments_lexer": "ipython3",
   "version": "3.7.6"
  }
 },
 "nbformat": 4,
 "nbformat_minor": 4
}
